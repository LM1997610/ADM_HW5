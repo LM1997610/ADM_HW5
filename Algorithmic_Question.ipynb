{
 "cells": [
  {
   "cell_type": "markdown",
   "id": "4507e3af-06fb-429e-8af1-4c21480249fb",
   "metadata": {},
   "source": [
    "## 6. Algorithmic Question:"
   ]
  },
  {
   "cell_type": "code",
   "execution_count": 19,
   "id": "ddee4827-1890-427a-a167-77ab36e13843",
   "metadata": {},
   "outputs": [],
   "source": [
    "import numpy as np"
   ]
  },
  {
   "cell_type": "code",
   "execution_count": 41,
   "id": "35647b8c-2075-4a0a-bb69-9e81b6b5610a",
   "metadata": {},
   "outputs": [
    {
     "name": "stdin",
     "output_type": "stream",
     "text": [
      "Please enter the path code orientation: R L D U:\n",
      " R\n"
     ]
    }
   ],
   "source": [
    "#input\n",
    "condition = False\n",
    "while condition==False:\n",
    "  \n",
    "    path = str(input('Please enter the path code orientation: R L D U:\\n')) #path string sequence\n",
    "    if len(path)<=10:\n",
    "        condition = True\n",
    "    else:\n",
    "        print('The string path should be less than 10, please try again:\\n')"
   ]
  },
  {
   "cell_type": "code",
   "execution_count": 42,
   "id": "4bf7d1ec-202a-4c77-98b2-ac8b13132de1",
   "metadata": {},
   "outputs": [
    {
     "data": {
      "text/plain": [
       "[3]"
      ]
     },
     "execution_count": 42,
     "metadata": {},
     "output_type": "execute_result"
    }
   ],
   "source": [
    "def string_to_integer_list(path):\n",
    "    l = len(path)\n",
    "    int_arr = []\n",
    "    for i in range(l):\n",
    "        if path[i] =='U':\n",
    "            int_arr.append(0)\n",
    "        elif path[i] == 'D':\n",
    "            int_arr.append(1)\n",
    "        elif path[i] == 'L':\n",
    "            int_arr.append(2) \n",
    "        elif path[i] == 'R':\n",
    "            int_arr.append(3) \n",
    "    return int_arr\n",
    "\n",
    "int_path = string_to_integer_list(path)\n",
    "string_to_integer_list(path)"
   ]
  },
  {
   "cell_type": "code",
   "execution_count": 43,
   "id": "7542cbe9-7112-458b-84e6-8ae1ae6ae8a3",
   "metadata": {},
   "outputs": [
    {
     "name": "stdout",
     "output_type": "stream",
     "text": [
      "All the way:\n"
     ]
    },
    {
     "data": {
      "text/plain": [
       "[[3], [3, 3]]"
      ]
     },
     "execution_count": 43,
     "metadata": {},
     "output_type": "execute_result"
    }
   ],
   "source": [
    "#finding all possible combination ex: RUR: RUR RRUR RRUUR RRUURR RUUR RUURR\n",
    "def all_probablity(arr):\n",
    "  l = len(arr)\n",
    "  state = [arr]\n",
    "  n = l\n",
    " \n",
    "  go = False\n",
    "  for i in range(l):\n",
    "      m = []\n",
    "      for k in range(n): \n",
    "        sub_state=[]\n",
    "        for j in range(l):\n",
    "          doubl = False\n",
    "          for s in range(len(m)):\n",
    "            if m[s]==j:\n",
    "             \n",
    "              go = True  \n",
    "              break \n",
    "          if i == j:\n",
    "            for _ in range(2):\n",
    "              sub_state.append(arr[i])\n",
    "          elif j<i:\n",
    "             sub_state.append(arr[j])\n",
    "\n",
    "          elif go==True:\n",
    "            for _ in range(2):\n",
    "              sub_state.append(arr[j])\n",
    "              go = False\n",
    "          else:\n",
    "            sub_state.append(arr[j])\n",
    "        m.append(k+1)\n",
    "        state.append(sub_state)\n",
    "      n = n -1\n",
    "  return state \n",
    "print('All the way:')  \n",
    "all_probablity(int_path)"
   ]
  },
  {
   "cell_type": "code",
   "execution_count": 44,
   "id": "26a726bc-abc7-4e96-9dd9-814e1a5eb1e9",
   "metadata": {},
   "outputs": [
    {
     "name": "stdout",
     "output_type": "stream",
     "text": [
      "[[1 2 3]\n",
      " [4 5 6]\n",
      " [7 8 9]]\n"
     ]
    }
   ],
   "source": [
    "#path possible matrix 3*3\n",
    "x = np.arange(1, 10).reshape(3, 3)\n",
    "print(x)"
   ]
  },
  {
   "cell_type": "code",
   "execution_count": 45,
   "id": "65ce93c8-e55e-4251-81d7-6724ef49bba3",
   "metadata": {},
   "outputs": [],
   "source": [
    "#>>>>>>>>>>>>>>>>>>>possible way<<<<<<<<<<<<<<<<<<<<<<<<<\n",
    "\n",
    "def possible(x,s):     #possible finding way function\n",
    "    position = []#up down left right; 0: not possible 1: possible. in this function the possible way recognized.\n",
    "    a = False\n",
    "    for i in range(3):\n",
    "        if a == False:\n",
    "            for j in range(3):\n",
    "                if x[i][j]==s:\n",
    "                    #up\n",
    "                    if i == 0:\n",
    "                        position.append(0)\n",
    "                    else:\n",
    "                        position.append(1)\n",
    "                    #down   \n",
    "                    if i ==2:\n",
    "                        position.append(0)\n",
    "                    else:\n",
    "                        position.append(1)\n",
    "                    #left   \n",
    "                    if j == 0:\n",
    "                        position.append(0)\n",
    "                    else:\n",
    "                        position.append(1)\n",
    "                    #right  \n",
    "                    if j == 2:\n",
    "                        position.append(0)\n",
    "                    else:\n",
    "                        position.append(1)\n",
    "                    a = True    \n",
    "                    break\n",
    "\n",
    "    return position"
   ]
  },
  {
   "cell_type": "code",
   "execution_count": 46,
   "id": "5b98357d-9cb9-44c1-bb60-177ff8e5e6f4",
   "metadata": {},
   "outputs": [
    {
     "name": "stdout",
     "output_type": "stream",
     "text": [
      "  Tree structure:\n",
      "\n"
     ]
    },
    {
     "data": {
      "text/plain": [
       "[[[0, 1, 0, 1], [0, 1, 1, 1], [0, 1, 1, 0]],\n",
       " [[1, 1, 0, 1], [1, 1, 1, 1], [1, 1, 1, 0]],\n",
       " [[1, 0, 0, 1], [1, 0, 1, 1], [1, 0, 1, 0]]]"
      ]
     },
     "execution_count": 46,
     "metadata": {},
     "output_type": "execute_result"
    }
   ],
   "source": [
    "#>>>>>>>>>>>>>>>>>>Main Tree<<<<<<<<<<<<<<<<<<<<<<<<<<\n",
    "\n",
    "def tree_possible_node(): #this function makes a tree of all possible way \n",
    "  tree = []\n",
    "  s = 1\n",
    "  for i in range(3):\n",
    "    sub_tree = []\n",
    "    for j in range(3):\n",
    "      node = possible(x,s)\n",
    "      s = s + 1\n",
    "      sub_tree.append(node)\n",
    "    tree.append(sub_tree) \n",
    "  return tree\n",
    "print('  Tree structure:\\n')  \n",
    "tree = tree_possible_node()\n",
    "tree  "
   ]
  },
  {
   "cell_type": "code",
   "execution_count": 47,
   "id": "90872b09-57d5-43a5-8066-4c86d4ccc64b",
   "metadata": {},
   "outputs": [
    {
     "name": "stdout",
     "output_type": "stream",
     "text": [
      "9\n"
     ]
    }
   ],
   "source": [
    "from re import L\n",
    "\n",
    "#finding all  possible way with tree structure:\n",
    "\n",
    "way = all_probablity(int_path)\n",
    "l = len(way)\n",
    "\n",
    "counter = 0\n",
    "for s in range(l):\n",
    "  lenght = len(way[s])\n",
    "  \n",
    "  for i in range(3):\n",
    "    for j in range(3):\n",
    "  \n",
    "      y,z = i,j\n",
    "      memory = []\n",
    "      \n",
    "      c = 0\n",
    "      for n in range(lenght):\n",
    "        con = True\n",
    "      \n",
    "        if tree[y][z][way[s][n]] == True:\n",
    "          \n",
    "          lm = len(memory)\n",
    "          for m in range(lm):\n",
    "            \n",
    "            if memory[m]==x[y][z]:\n",
    "             \n",
    "              con = False\n",
    "              break\n",
    "          if  con == True:       \n",
    "              if way[s][n]==0:\n",
    "                  memory.append(x[y][z])\n",
    "                #if possible(x,x[y][z])[0]  == True:\n",
    "                  y,z=y-1,z\n",
    "                  \n",
    "                  c = c +1\n",
    "              elif way[s][n]==1: \n",
    "                \n",
    "                #if possible(x,x[y][z])[1]  == True:\n",
    "                  memory.append(x[y][z])\n",
    "                  y,z=y+1,z \n",
    "                 \n",
    "                  \n",
    "                  c = c +1\n",
    "              elif way[s][n]==2: \n",
    "                #if possible(x,x[y][z])[2]  == True:\n",
    "                  memory.append(x[y][z])\n",
    "                  y,z=y,z-1 \n",
    "                  \n",
    "                  c = c +1\n",
    "              elif way[s][n]==3: \n",
    "                \n",
    "                #if possible(x,x[y][z])[3]  == True:\n",
    "                  memory.append(x[y][z]) \n",
    "                  y,z=y,z+1 \n",
    "                      \n",
    "                  c = c +1 \n",
    "\n",
    "          else: \n",
    "            con = False\n",
    "            break  \n",
    "          \n",
    "      if con == True and c==lenght:\n",
    "            counter = counter + 1\n",
    "         \n",
    "print(counter) \n"
   ]
  },
  {
   "cell_type": "code",
   "execution_count": null,
   "id": "9cf20756-0d6c-444b-b9d1-e8dd15182d81",
   "metadata": {},
   "outputs": [],
   "source": []
  }
 ],
 "metadata": {
  "kernelspec": {
   "display_name": "conda_python3",
   "language": "python",
   "name": "conda_python3"
  },
  "language_info": {
   "codemirror_mode": {
    "name": "ipython",
    "version": 3
   },
   "file_extension": ".py",
   "mimetype": "text/x-python",
   "name": "python",
   "nbconvert_exporter": "python",
   "pygments_lexer": "ipython3",
   "version": "3.10.6"
  }
 },
 "nbformat": 4,
 "nbformat_minor": 5
}
